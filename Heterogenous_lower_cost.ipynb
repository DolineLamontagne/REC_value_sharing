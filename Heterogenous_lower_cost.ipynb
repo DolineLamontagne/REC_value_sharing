{
 "cells": [
  {
   "cell_type": "code",
   "execution_count": 1,
   "id": "2fb63a7d-222a-442a-830d-2bdbb4c34797",
   "metadata": {},
   "outputs": [],
   "source": [
    "import pandas as pd\n",
    "import itertools\n",
    "import numpy as np\n",
    "from statistics import mean\n",
    "import cvxopt\n",
    "from cvxopt.solvers import qp, options\n",
    "from cvxopt import matrix, solvers\n",
    "from cvxopt import blas\n",
    "import math"
   ]
  },
  {
   "cell_type": "code",
   "execution_count": 32,
   "id": "4ac82456-0e88-4a71-8c77-bf1967e152e8",
   "metadata": {},
   "outputs": [],
   "source": [
    "#Initializing variables \n",
    "homogenous = pd.read_excel('REC_Profiles.xlsx', sheet_name='Homogenous') \n",
    "heterogenous = pd.read_excel('REC_Profiles.xlsx', sheet_name='Heterogenous') \n",
    "\n",
    "#price of electricity consumption and injection in 2021 in Wallonia\n",
    "elec_price = {'cons' : 63,\n",
    "              'inj' : 44} #€/MWh\n",
    "\n",
    "#distribution and transport fees for households in low voltage \n",
    "distribution_fees_lv = 0.08277 #€/kWh\n",
    "transport_fees_lv = 0.0255354 #€/kWh\n",
    "injection_fees_lv = 13.66 # €/year\n",
    "\n",
    "#prosumer tariff - 1kWe +-= 910kWh \n",
    "prosumer_tariff = 63.79 #€/kWe\n",
    "\n",
    "\n",
    "#price of a pv installation in €/MWh\n",
    "pv_price_kwh = 1.04 # 1040€ pour 1000kWh\n",
    "\n",
    "#how much  of the installation should be covered by solar panels\n",
    "cover_cons = 0.8\n",
    "    \n",
    "#management cost for the CER (low cost and high cost options) in €/MWh of produced electricity\n",
    "management_cost_megawh_low = 5\n",
    "management_cost_megawh_medium = 8.5\n",
    "management_cost_megawh_high = 12\n",
    "\n",
    "#DSO = distribution service operator cost, in €/year\n",
    "dso_cost_low = 23\n",
    "dso_cost_medium = 231.5\n",
    "dso_cost_high = 440\n",
    "\n",
    "#green certificates \n",
    "cv_megawh = 0.57 #0,57 green certificates per MWh produced\n",
    "cv_price = 65 #65€ per green certificate\n",
    "\n",
    "permutations = list(itertools.permutations(list('ABCDEF')))\n",
    "\n",
    "#creates a list containing the households \n",
    "households = ['A','B','C','D','E','F']\n",
    "\n",
    "#generates a list with all the sub-coallitions possible\n",
    "sub_coallitions = ['ABCDEF','ABCDE','ABCDF','ABCEF','ABDEF','ACDEF','BCDEF','ABCD','ABCE','ABCF','ABDE','ABDF','ABEF','ACDE','ACDF','ACEF','ADEF','BCDE','BCDF','BCEF','BDEF','CDEF','ABC','ABD','ABE','ABF','ACD','ACE','ACF','ADE','ADF','AEF','BCD','BCE','BCF','BDE','BDF','BEF','CDE','CDF','CEF','DEF','AB','AC','AD','AE','AF','BC','BD','BE','BF','CD','CE','CF','DE','DF','EF','A','B','C','D','E','F']"
   ]
  },
  {
   "cell_type": "code",
   "execution_count": 3,
   "id": "f7b3850d-760f-47b1-a6d5-6e75761b447d",
   "metadata": {},
   "outputs": [],
   "source": [
    "#generates columns filled with zero in the length of the homogenous table\n",
    "def get_cons(string):\n",
    "    lst_strings = list(string)\n",
    "    sum_columns = np.zeros(len(heterogenous))\n",
    "    for char in lst_strings:\n",
    "        sum_columns += heterogenous[char]\n",
    "    \n",
    "    return sum_columns \n",
    "## replace homogenous with heterogenous for heterogenous households "
   ]
  },
  {
   "cell_type": "code",
   "execution_count": 4,
   "id": "cd337f3d-9f03-400f-be51-5074ed751a9c",
   "metadata": {},
   "outputs": [],
   "source": [
    "#creates a table 'cons' with the electricity consumption for each sub-coallition of households\n",
    "cons = pd.DataFrame()\n",
    "\n",
    "for sub_coal in sub_coallitions:\n",
    "    cons[sub_coal] = get_cons(sub_coal) "
   ]
  },
  {
   "cell_type": "code",
   "execution_count": 5,
   "id": "4909d569-59da-49b3-a005-441d348337be",
   "metadata": {},
   "outputs": [],
   "source": [
    "#creates a dictionary with the total electricity consumption for each sub-coallition\n",
    "total_cons = {}\n",
    "\n",
    "for sub_coal in sub_coallitions: \n",
    "    total_cons[sub_coal] = cons[sub_coal].sum()"
   ]
  },
  {
   "cell_type": "code",
   "execution_count": 6,
   "id": "60f92178-5a0c-4db1-be55-e2fa6768e910",
   "metadata": {},
   "outputs": [],
   "source": [
    "#creates a dictionary with how much photovoltaic panels capacity to install for each sub-coallition\n",
    "\n",
    "pv_capacity = {}\n",
    "\n",
    "for sub_coal in sub_coallitions: \n",
    "    pv_capacity[sub_coal] = total_cons[sub_coal]*cover_cons"
   ]
  },
  {
   "cell_type": "code",
   "execution_count": 7,
   "id": "312464dc-f0e8-456e-a191-86dddb2dc336",
   "metadata": {},
   "outputs": [],
   "source": [
    "#the pv capacity for individual households cannot exceed 1/6th of the pv capacity for the community as a whole. \n",
    "#if households aggregate into a communtiy, they jointly invest in pv capacity and there is therefore no individual limit. \n",
    "\n",
    "for x in households: \n",
    "    \n",
    "    if pv_capacity[x] > 1/6 * pv_capacity['ABCDEF']:\n",
    "        pv_capacity[x] = 1/6 * pv_capacity['ABCDEF']\n",
    "    else:\n",
    "        continue"
   ]
  },
  {
   "cell_type": "code",
   "execution_count": 8,
   "id": "60b04fe8-6c60-44ec-b3e8-ead41698f082",
   "metadata": {},
   "outputs": [],
   "source": [
    "#creates a table with the electricity production for each sub-coallition of households\n",
    "prod = pd.DataFrame()\n",
    "\n",
    "for sub_coal in sub_coallitions:\n",
    "    prod[sub_coal] = pv_capacity[sub_coal]*heterogenous['PV_prod_to_capacity']\n",
    "    ## replace homogenous with heterogenous for heterogenous households"
   ]
  },
  {
   "cell_type": "code",
   "execution_count": 9,
   "id": "21ee97ba-6d70-4ee9-aeb3-39962f3fabfc",
   "metadata": {},
   "outputs": [],
   "source": [
    "#creates a table with the net consumption of electricity per 15 min for each sub-coallition\n",
    "net_cons = pd.DataFrame()\n",
    "\n",
    "for sub_coal in sub_coallitions:\n",
    "    net_cons[sub_coal] = cons[sub_coal] - prod[sub_coal]\n"
   ]
  },
  {
   "cell_type": "code",
   "execution_count": 10,
   "id": "77457890-ac7d-4097-9cd1-ee825e7b788c",
   "metadata": {},
   "outputs": [],
   "source": [
    "#creates two dictionnaries, one containing the total electricity demand for each sub-coallition \n",
    "#and the other one the total electricity surplus for each sub-coallition\n",
    "#the demand is the sum of all positive elements in the table \"net_cons\"\n",
    "#the surplus is the sum of all negative elements in the table \"net_cons\"\n",
    "\n",
    "total_demand = {}\n",
    "total_surplus = {}\n",
    "\n",
    "for sub_coal in sub_coallitions: \n",
    "    total_demand[sub_coal] = net_cons[sub_coal][net_cons[sub_coal] > 0].sum()\n",
    "    total_surplus[sub_coal] = net_cons[sub_coal][net_cons[sub_coal] <= 0].sum()"
   ]
  },
  {
   "cell_type": "code",
   "execution_count": 11,
   "id": "1ab9b936-4de3-4390-a7c7-4043f57c98d1",
   "metadata": {},
   "outputs": [],
   "source": [
    "#generates a dictionary with the number of green certificates for each sub-coallition\n",
    "\n",
    "green_certificates = {}\n",
    "\n",
    "for sub_coal in sub_coallitions: \n",
    "    if pv_capacity[sub_coal] >= 10000:\n",
    "        green_certificates[sub_coal] = int(pv_capacity[sub_coal]*cv_megawh/1000)\n",
    "    else: \n",
    "        green_certificates[sub_coal] = 0"
   ]
  },
  {
   "cell_type": "code",
   "execution_count": 12,
   "id": "96812bce-67ff-4121-8769-34af390f0f55",
   "metadata": {},
   "outputs": [],
   "source": [
    "#cost for individuals households who are not prosumers \n",
    "\n",
    "cost_HH = {}\n",
    "\n",
    "for x in households:\n",
    "    cost_HH[x] = total_cons[x]*(distribution_fees_lv + transport_fees_lv) + total_cons[x]*elec_price['cons']/1000"
   ]
  },
  {
   "cell_type": "code",
   "execution_count": 13,
   "id": "b9d7940e-21ed-4937-b7fa-4ed9d8d0dd43",
   "metadata": {},
   "outputs": [],
   "source": [
    "#cost for each sub-coallition forming an energy community \n",
    "\n",
    "cost = {}\n",
    "\n",
    "for sub_coal in sub_coallitions:\n",
    "    cost[sub_coal] = total_demand[sub_coal]*(distribution_fees_lv + transport_fees_lv + elec_price['cons']/1000) + total_surplus[sub_coal] * elec_price['inj']/1000 + management_cost_megawh_low * pv_capacity[sub_coal]/1000 + dso_cost_low + injection_fees_lv + pv_price_kwh/30 * pv_capacity[sub_coal] - green_certificates[sub_coal] * cv_price\n",
    "    \n",
    "    \n",
    "    "
   ]
  },
  {
   "cell_type": "code",
   "execution_count": 14,
   "id": "1735750f-0c87-4793-a061-87eb8f2eac11",
   "metadata": {},
   "outputs": [],
   "source": [
    "#replace the value for households with cost_homogenous_HH in cost_homogenous because they do not have the same cost and benefits as the community\n",
    "for x in households: \n",
    "    cost[x] = cost_HH[x]"
   ]
  },
  {
   "cell_type": "code",
   "execution_count": 15,
   "id": "7d744ce3-9a3d-4a57-8da1-94e19b9a5c0a",
   "metadata": {},
   "outputs": [],
   "source": [
    "#defines the total cost for all households when they are not prosumers and pay their bill individually\n",
    "\n",
    "total_cost_HH = sum(cost_HH.values())"
   ]
  },
  {
   "cell_type": "code",
   "execution_count": 16,
   "id": "90a023d6-51f5-46b4-9326-fd626b63150b",
   "metadata": {},
   "outputs": [],
   "source": [
    "#the value generated by the community is te difference between the sum of the cost of individual households when they are not part of a community \n",
    "#and the cost of the community when all households join.\n",
    "\n",
    "value_REC = total_cost_HH - cost['ABCDEF']"
   ]
  },
  {
   "cell_type": "code",
   "execution_count": 36,
   "id": "16dd47f4-7916-4006-aba6-4626f0133a60",
   "metadata": {},
   "outputs": [],
   "source": [
    "#individual value - prosumer - capacity based: \n",
    "\n",
    "cost_prosumer_capacity = {}\n",
    "\n",
    "for x in households: \n",
    "    cost_prosumer_capacity[x] = prosumer_tariff*pv_capacity[x]/910 +  net_cons[x].sum()*elec_price['cons']/1000 + pv_capacity[x]*pv_price_kwh/30 + injection_fees_lv\n",
    "    \n",
    "value_prosumer_capacity = {}\n",
    "\n",
    "for x in households:\n",
    "    value_prosumer_capacity[x] = cost[x] - cost_prosumer_capacity[x]"
   ]
  },
  {
   "cell_type": "code",
   "execution_count": 34,
   "id": "63c742f5-d258-4ea7-84e8-de5c508cd9e9",
   "metadata": {},
   "outputs": [],
   "source": [
    "#cost for prosumer with proportional tariffs\n",
    "\n",
    "cost_prosumer_proportional = {}\n",
    "\n",
    "for x in households:\n",
    "    cost_prosumer_proportional[x] = total_demand[x]*(distribution_fees_lv + transport_fees_lv + elec_price['cons']/1000) + total_surplus[x] * elec_price['inj']/1000 + management_cost_megawh_low * pv_capacity[x]/1000 + dso_cost_low + injection_fees_lv + pv_price_kwh/30 * pv_capacity[x] \n",
    "    \n",
    "value_prosumer_proportional = {}\n",
    "\n",
    "for x in households:\n",
    "    value_prosumer_proportional[x] = cost[x] - cost_prosumer_proportional[x]\n",
    "    "
   ]
  },
  {
   "cell_type": "code",
   "execution_count": 18,
   "id": "53464859-2c66-4404-966f-cd0f8a0de545",
   "metadata": {},
   "outputs": [],
   "source": [
    "#sharing key 1 - Per capita\n",
    "sharing_per_capita = {}\n",
    "\n",
    "for x in households: \n",
    "    sharing_per_capita[x] = value_REC/6"
   ]
  },
  {
   "cell_type": "code",
   "execution_count": 19,
   "id": "be973291-0655-496e-81cf-da7b8bd745f0",
   "metadata": {},
   "outputs": [],
   "source": [
    "#sharing key 2 - Per volume\n",
    "sharing_per_volume = {}\n",
    "\n",
    "for x in households: \n",
    "    sharing_per_volume[x] = value_REC*total_cons[x]/total_cons['ABCDEF'] "
   ]
  },
  {
   "cell_type": "code",
   "execution_count": 20,
   "id": "26b999f8-5696-47ca-b06a-d664af58e2f3",
   "metadata": {},
   "outputs": [],
   "source": [
    "peak_demand_HH = dict(cons[households].iloc[cons['ABCDEF'].idxmax()])"
   ]
  },
  {
   "cell_type": "code",
   "execution_count": 21,
   "id": "331555c7-c26c-4051-9b88-39c0ebb233d3",
   "metadata": {},
   "outputs": [],
   "source": [
    "#sharing key 3 - Pro rata of peak demand\n",
    "sharing_peak_demand = {}\n",
    "\n",
    "#gets the demand associated with the peak demand in the community \n",
    "peak_demand_HH = dict(cons[households].iloc[cons['ABCDEF'].idxmax()])\n",
    "\n",
    "for x in households: \n",
    "    sharing_peak_demand[x] = value_REC*peak_demand_HH[x]/max(cons['ABCDEF'])"
   ]
  },
  {
   "cell_type": "code",
   "execution_count": 22,
   "id": "09492ea8-e793-40b9-a548-8cdd5d186b32",
   "metadata": {},
   "outputs": [],
   "source": [
    "#calculates the values for all the sub-coallitions \n",
    "\n",
    "values_coal = {}\n",
    "\n",
    "for key, value in cost.items():\n",
    "    sum_HH = sum([cost_HH[letter] for letter in key])\n",
    "    values_coal[key] = sum_HH - value"
   ]
  },
  {
   "cell_type": "code",
   "execution_count": 23,
   "id": "c8e7ea9a-6d29-4063-a958-54e121af1604",
   "metadata": {},
   "outputs": [],
   "source": [
    "#calculates the values for all the permutations of all the sub-coallitions \n",
    "\n",
    "values_coal_permuts = {}\n",
    "\n",
    "for key, value in values_coal.items():\n",
    "    combination = key\n",
    "    permut = list(itertools.permutations(list(combination)))\n",
    "    for perm in permut:\n",
    "        new_key = ''.join(perm)\n",
    "        values_coal_permuts[new_key] = value"
   ]
  },
  {
   "cell_type": "code",
   "execution_count": 24,
   "id": "d1959792-fbf8-4d10-8575-f0dea1a691f7",
   "metadata": {},
   "outputs": [],
   "source": [
    "#for all elements of 'permutations', joins them with no space in between. \n",
    "# [('A','B','C','D','E','F'),...] becomes [('ABCDEF'),...]\n",
    "\n",
    "permutations_stringed = [''.join(perm) for perm in permutations]"
   ]
  },
  {
   "cell_type": "code",
   "execution_count": 25,
   "id": "67ee7f0f-2a89-4613-9a5f-6c31836ae6e9",
   "metadata": {},
   "outputs": [],
   "source": [
    "#calculate the marginal contribution of each household to the community, given all possible permutations.\n",
    "shapley = {i:{} for i in 'ABCDEF'}\n",
    "\n",
    "for permut in permutations_stringed:\n",
    "    for i, hh in enumerate(permut):  \n",
    "        if i == 0:\n",
    "            value = values_coal_permuts[hh]\n",
    "        else:\n",
    "            value = values_coal_permuts[permut[:i+1]] - values_coal_permuts[permut[:i]]\n",
    "        \n",
    "        shapley[hh][permut] = value"
   ]
  },
  {
   "cell_type": "code",
   "execution_count": 26,
   "id": "ae0604a9-fe19-4f34-bbbf-d030c112f513",
   "metadata": {},
   "outputs": [],
   "source": [
    "#table containing all the marginal contributions of each individuals to each permutations of the overall community.\n",
    "\n",
    "shapley_df = pd.DataFrame(shapley)"
   ]
  },
  {
   "cell_type": "code",
   "execution_count": 27,
   "id": "d31e6450-62c0-48e3-85d2-80bccf7f6243",
   "metadata": {},
   "outputs": [],
   "source": [
    "# sharing key 4 - Shapley value\n",
    "# getting the average of all marginal contributions for each household\n",
    "\n",
    "sharing_shapley = {column: shapley_df[column].mean() for column in shapley_df}"
   ]
  },
  {
   "cell_type": "code",
   "execution_count": 28,
   "id": "ccefb72d-678a-4598-a7de-6c01c4520863",
   "metadata": {},
   "outputs": [
    {
     "name": "stdout",
     "output_type": "stream",
     "text": [
      "     pcost       dcost       gap    pres   dres\n",
      " 0:  2.6952e+05 -5.0107e+06  7e+06  4e-02  6e+04\n",
      " 1:  2.6952e+05 -2.9980e+06  4e+06  2e-02  3e+04\n",
      " 2:  2.6952e+05 -1.4822e+06  2e+06  1e-02  2e+04\n",
      " 3:  2.6952e+05 -5.7857e+05  2e+06  8e-03  1e+04\n",
      " 4:  2.6952e+05  4.3179e+06  2e+06  8e-03  1e+04\n",
      " 5:  2.6952e+05  5.8511e+07  4e+06  8e-03  1e+04\n",
      " 6:  2.6952e+05  1.6751e+09  2e+07  8e-03  1e+04\n",
      " 7:  2.6952e+05  1.6341e+11  3e+08  8e-03  1e+04\n",
      " 8:  2.6952e+05  1.2164e+13  2e+10  8e-03  1e+04\n",
      " 9:  2.6952e+05  5.8254e+15  2e+12  8e-03  1e+04\n",
      "10:  2.6952e+05  9.3210e+18  1e+15  8e-03  2e+05\n",
      "Terminated (singular KKT matrix).\n"
     ]
    }
   ],
   "source": [
    "#help(qp): qp is part of the cvxopt package wich allows to run a quadratic optimazation program.\n",
    "#The program looks for a vector of variables x that minimizes the following objective function:\n",
    "# (1/2)x'Px + q'x\n",
    "#s.t.\n",
    "# Gx <= h \n",
    "# Ax = b \n",
    "\n",
    "\n",
    "\n",
    "M = np.array([[1/math.sqrt(6),1/math.sqrt(6),1/math.sqrt(6),1/math.sqrt(6),1/math.sqrt(6),1/math.sqrt(6)],[0,0,0,0,0,0],[0,0,0,0,0,0],[0,0,0,0,0,0],[0,0,0,0,0,0],[0,0,0,0,0,0]])\n",
    "P = matrix(np.dot(M.T,M))\n",
    "q = matrix(np.array([0,0,0,0,0,0]).T.astype(float))\n",
    "\n",
    "A = matrix(np.ones((1, 6)))\n",
    "b = matrix(values_coal['ABCDEF'])\n",
    "\n",
    "#create a matrix G which has value '-1' attributed to a household when they are part of a (sub-)coallition and '0' when they are not\n",
    "dicto = {'A': 0, 'B': 1, 'C': 2, 'D': 3, 'E': 4, 'F': 5}\n",
    "G = []\n",
    "for sub_coallition in sub_coallitions:\n",
    "    row = []\n",
    "    pos_value = []\n",
    "    for letter in sub_coallition:\n",
    "        pos_value.append(dicto[letter])\n",
    "    for key, value in dicto.items():\n",
    "        if value in pos_value:\n",
    "            row.append(-1.0)\n",
    "        else:\n",
    "            row.append(0.0)\n",
    "    G.append(row)\n",
    "G = matrix(np.array(G))\n",
    "G = matrix(G)\n",
    "\n",
    "#create a matrix h with the values of all sub-coallitions, multiplied by (-1) to respect the structure for the conditions of the program\n",
    "h = matrix(np.array(list(values_coal.values())) *(-1))\n",
    "\n",
    "#Runs the program\n",
    "\n",
    "sol = qp(P,q,G,h,A,b)['x']"
   ]
  },
  {
   "cell_type": "code",
   "execution_count": 29,
   "id": "52bce507-8cbb-4cf8-a54f-bdca71e89292",
   "metadata": {},
   "outputs": [],
   "source": [
    "#sharing key 5 - MinVar \n",
    "\n",
    "list(sol)\n",
    "sharing_minvar = {k: v for (k, v) in zip(dicto.keys(), list(sol))}"
   ]
  },
  {
   "cell_type": "code",
   "execution_count": 37,
   "id": "2d529358-9aed-4575-9d75-86de24f012a1",
   "metadata": {},
   "outputs": [
    {
     "data": {
      "text/html": [
       "<div>\n",
       "<style scoped>\n",
       "    .dataframe tbody tr th:only-of-type {\n",
       "        vertical-align: middle;\n",
       "    }\n",
       "\n",
       "    .dataframe tbody tr th {\n",
       "        vertical-align: top;\n",
       "    }\n",
       "\n",
       "    .dataframe thead th {\n",
       "        text-align: right;\n",
       "    }\n",
       "</style>\n",
       "<table border=\"1\" class=\"dataframe\">\n",
       "  <thead>\n",
       "    <tr style=\"text-align: right;\">\n",
       "      <th></th>\n",
       "      <th>A</th>\n",
       "      <th>B</th>\n",
       "      <th>C</th>\n",
       "      <th>D</th>\n",
       "      <th>E</th>\n",
       "      <th>F</th>\n",
       "    </tr>\n",
       "  </thead>\n",
       "  <tbody>\n",
       "    <tr>\n",
       "      <th>individual value 1</th>\n",
       "      <td>351.929194</td>\n",
       "      <td>263.806013</td>\n",
       "      <td>244.394477</td>\n",
       "      <td>812.620186</td>\n",
       "      <td>103.785770</td>\n",
       "      <td>103.838059</td>\n",
       "    </tr>\n",
       "    <tr>\n",
       "      <th>individual value 2</th>\n",
       "      <td>118.750660</td>\n",
       "      <td>97.900508</td>\n",
       "      <td>83.178728</td>\n",
       "      <td>244.312515</td>\n",
       "      <td>11.470016</td>\n",
       "      <td>11.600316</td>\n",
       "    </tr>\n",
       "    <tr>\n",
       "      <th>per capita</th>\n",
       "      <td>299.735415</td>\n",
       "      <td>299.735415</td>\n",
       "      <td>299.735415</td>\n",
       "      <td>299.735415</td>\n",
       "      <td>299.735415</td>\n",
       "      <td>299.735415</td>\n",
       "    </tr>\n",
       "    <tr>\n",
       "      <th>per volume</th>\n",
       "      <td>348.576741</td>\n",
       "      <td>282.090332</td>\n",
       "      <td>262.355279</td>\n",
       "      <td>666.530676</td>\n",
       "      <td>119.403151</td>\n",
       "      <td>119.456311</td>\n",
       "    </tr>\n",
       "    <tr>\n",
       "      <th>pro rata of peak demand</th>\n",
       "      <td>327.098339</td>\n",
       "      <td>110.548949</td>\n",
       "      <td>241.552787</td>\n",
       "      <td>534.324733</td>\n",
       "      <td>580.341931</td>\n",
       "      <td>4.545751</td>\n",
       "    </tr>\n",
       "    <tr>\n",
       "      <th>Shapley</th>\n",
       "      <td>342.087663</td>\n",
       "      <td>268.727224</td>\n",
       "      <td>242.531381</td>\n",
       "      <td>723.284031</td>\n",
       "      <td>110.120796</td>\n",
       "      <td>111.661395</td>\n",
       "    </tr>\n",
       "    <tr>\n",
       "      <th>MinVar</th>\n",
       "      <td>381.745229</td>\n",
       "      <td>246.683895</td>\n",
       "      <td>234.303616</td>\n",
       "      <td>779.499306</td>\n",
       "      <td>77.084552</td>\n",
       "      <td>79.095893</td>\n",
       "    </tr>\n",
       "  </tbody>\n",
       "</table>\n",
       "</div>"
      ],
      "text/plain": [
       "                                  A           B           C           D  \\\n",
       "individual value 1       351.929194  263.806013  244.394477  812.620186   \n",
       "individual value 2       118.750660   97.900508   83.178728  244.312515   \n",
       "per capita               299.735415  299.735415  299.735415  299.735415   \n",
       "per volume               348.576741  282.090332  262.355279  666.530676   \n",
       "pro rata of peak demand  327.098339  110.548949  241.552787  534.324733   \n",
       "Shapley                  342.087663  268.727224  242.531381  723.284031   \n",
       "MinVar                   381.745229  246.683895  234.303616  779.499306   \n",
       "\n",
       "                                  E           F  \n",
       "individual value 1       103.785770  103.838059  \n",
       "individual value 2        11.470016   11.600316  \n",
       "per capita               299.735415  299.735415  \n",
       "per volume               119.403151  119.456311  \n",
       "pro rata of peak demand  580.341931    4.545751  \n",
       "Shapley                  110.120796  111.661395  \n",
       "MinVar                    77.084552   79.095893  "
      ]
     },
     "execution_count": 37,
     "metadata": {},
     "output_type": "execute_result"
    }
   ],
   "source": [
    "#Table with all the allocation keys: \n",
    "\n",
    "pd.DataFrame({'individual value 1' : value_prosumer_capacity,\n",
    "              'individual value 2' : value_prosumer_proportional,\n",
    "              'per capita': sharing_per_capita,\n",
    "              'per volume': sharing_per_volume,\n",
    "              'pro rata of peak demand': sharing_peak_demand,\n",
    "              'Shapley': sharing_shapley,\n",
    "              'MinVar': sharing_minvar}).T"
   ]
  },
  {
   "cell_type": "code",
   "execution_count": 31,
   "id": "c59b3b48-8f9d-48cd-b33d-9e72f3f25cce",
   "metadata": {},
   "outputs": [
    {
     "data": {
      "text/plain": [
       "1798.4124900868978"
      ]
     },
     "execution_count": 31,
     "metadata": {},
     "output_type": "execute_result"
    }
   ],
   "source": [
    "values_coal['ABCDEF']"
   ]
  },
  {
   "cell_type": "code",
   "execution_count": null,
   "id": "2e8f7456-ce53-44fa-a76e-82db646c5b78",
   "metadata": {},
   "outputs": [],
   "source": []
  },
  {
   "cell_type": "markdown",
   "id": "121c2e65-8fe7-4237-a5bb-a49ff5098784",
   "metadata": {},
   "source": [
    "For homogenous consumers"
   ]
  }
 ],
 "metadata": {
  "kernelspec": {
   "display_name": "Python 3 (ipykernel)",
   "language": "python",
   "name": "python3"
  },
  "language_info": {
   "codemirror_mode": {
    "name": "ipython",
    "version": 3
   },
   "file_extension": ".py",
   "mimetype": "text/x-python",
   "name": "python",
   "nbconvert_exporter": "python",
   "pygments_lexer": "ipython3",
   "version": "3.9.7"
  }
 },
 "nbformat": 4,
 "nbformat_minor": 5
}
