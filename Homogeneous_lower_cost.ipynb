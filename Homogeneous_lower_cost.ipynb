{
 "cells": [
  {
   "cell_type": "code",
   "execution_count": 1,
   "id": "d7cc6af5-bb10-460c-bffa-610cb84bbdec",
   "metadata": {},
   "outputs": [],
   "source": [
    "import pandas as pd\n",
    "import itertools\n",
    "import numpy as np\n",
    "from statistics import mean\n",
    "import cvxopt\n",
    "from cvxopt.solvers import qp, options\n",
    "from cvxopt import matrix, solvers\n",
    "from cvxopt import blas\n",
    "import math"
   ]
  },
  {
   "cell_type": "code",
   "execution_count": 2,
   "id": "e064ef67-4dd2-40c1-b78a-96a09478d041",
   "metadata": {},
   "outputs": [],
   "source": [
    "#Initializing variables \n",
    "homogenous = pd.read_excel('REC_Profiles.xlsx', sheet_name='Homogenous') \n",
    "heterogenous = pd.read_excel('REC_Profiles.xlsx', sheet_name='Heterogenous') \n",
    "\n",
    "#price of electricity consumption and injection in 2021 in Wallonia\n",
    "elec_price = {'cons' : 63,\n",
    "              'inj' : 44} #€/MWh\n",
    "\n",
    "#distribution and transport fees for households in low voltage \n",
    "distribution_fees_lv = 0.08277 #€/kWh\n",
    "transport_fees_lv = 0.0255354 #€/kWh\n",
    "injection_fees_lv = 13.66 # €/year\n",
    "\n",
    "#prosumer tariff - 1kWe +-= 910kWh \n",
    "prosumer_tariff = 63.79 #€/kWe\n",
    "\n",
    "\n",
    "#price of a pv installation in €/MWh\n",
    "pv_price_kwh = 1.04 # 1040€ pour 1000kWh of capacity \n",
    "\n",
    "#how much  of the consumption should be covered by solar panels\n",
    "cover_cons = 0.8\n",
    "    \n",
    "#management cost for the CER (low cost and high cost options) in €/MWh of produced electricity\n",
    "management_cost_megawh_low = 5\n",
    "management_cost_megawh_medium = 8.5\n",
    "management_cost_megawh_high = 12\n",
    "\n",
    "#DSO = distribution service operator cost, in €/year\n",
    "dso_cost_low = 23\n",
    "dso_cost_medium = 231.5\n",
    "dso_cost_high = 440\n",
    "\n",
    "#green certificates \n",
    "cv_megawh = 0.57 #0,57 green certificates per MWh produced\n",
    "cv_price = 65 #65€ per green certificate\n",
    "\n",
    "permutations = list(itertools.permutations(list('ABCDEF')))\n",
    "\n",
    "#creates a list containing the households \n",
    "households = ['A','B','C','D','E','F']\n",
    "\n",
    "#generates a list with all the sub-coallitions possible\n",
    "sub_coallitions = ['ABCDEF','ABCDE','ABCDF','ABCEF','ABDEF','ACDEF','BCDEF','ABCD','ABCE','ABCF','ABDE','ABDF','ABEF','ACDE','ACDF','ACEF','ADEF','BCDE','BCDF','BCEF','BDEF','CDEF','ABC','ABD','ABE','ABF','ACD','ACE','ACF','ADE','ADF','AEF','BCD','BCE','BCF','BDE','BDF','BEF','CDE','CDF','CEF','DEF','AB','AC','AD','AE','AF','BC','BD','BE','BF','CD','CE','CF','DE','DF','EF','A','B','C','D','E','F']"
   ]
  },
  {
   "cell_type": "code",
   "execution_count": 3,
   "id": "81f607e1-9769-4f47-8bb0-5a4400ae0e5f",
   "metadata": {},
   "outputs": [],
   "source": [
    "#generates columns filled with zero in the length of the homogenous table\n",
    "def get_cons(string):\n",
    "    lst_strings = list(string)\n",
    "    sum_columns = np.zeros(len(homogenous))\n",
    "    for char in lst_strings:\n",
    "        sum_columns += homogenous[char]\n",
    "    \n",
    "    return sum_columns \n",
    "## replace homogenous with heterogenous for heterogenous households "
   ]
  },
  {
   "cell_type": "code",
   "execution_count": 4,
   "id": "6b93ae51-3f8b-4757-af8e-382a01bd4bf3",
   "metadata": {},
   "outputs": [],
   "source": [
    "#creates a table 'cons' with the electricity consumption for each sub-coallition of households\n",
    "cons = pd.DataFrame()\n",
    "\n",
    "for sub_coal in sub_coallitions:\n",
    "    cons[sub_coal] = get_cons(sub_coal)  "
   ]
  },
  {
   "cell_type": "code",
   "execution_count": 5,
   "id": "bce49df3-6b02-4b69-a103-d0fdd40c7ee9",
   "metadata": {},
   "outputs": [],
   "source": [
    "#creates a dictionary with the total electricity consumption for each sub-coallition\n",
    "total_cons = {}\n",
    "\n",
    "for sub_coal in sub_coallitions: \n",
    "    total_cons[sub_coal] = cons[sub_coal].sum()"
   ]
  },
  {
   "cell_type": "code",
   "execution_count": 6,
   "id": "f08cc0b2-204a-41b8-a4a7-5fa94196b780",
   "metadata": {
    "tags": []
   },
   "outputs": [],
   "source": [
    "#creates a dictionary with how much photovoltaic panels capacity to install for each sub-coallition\n",
    "\n",
    "pv_capacity = {}\n",
    "\n",
    "for sub_coal in sub_coallitions: \n",
    "    pv_capacity[sub_coal] = total_cons[sub_coal]*cover_cons"
   ]
  },
  {
   "cell_type": "code",
   "execution_count": 7,
   "id": "172d0425-8073-4c3e-8ea0-e67f5a59bc8d",
   "metadata": {},
   "outputs": [],
   "source": [
    "#the pv capacity for individual households cannot exceed 1/6th of the pv capacity for the community as a whole. \n",
    "#if households aggregate into a communtiy, they jointly invest in pv capacity and there is therefore no individual limit. \n",
    "\n",
    "for x in households: \n",
    "    \n",
    "    if pv_capacity[x] > 1/6 * pv_capacity['ABCDEF']:\n",
    "        pv_capacity[x] = 1/6 * pv_capacity['ABCDEF']\n",
    "    else:\n",
    "        continue"
   ]
  },
  {
   "cell_type": "code",
   "execution_count": 8,
   "id": "b772faeb-7935-4054-bff1-719a19fd66b6",
   "metadata": {},
   "outputs": [],
   "source": [
    "#creates a table with the electricity production for each sub-coallition of households\n",
    "prod = pd.DataFrame()\n",
    "\n",
    "for sub_coal in sub_coallitions:\n",
    "    prod[sub_coal] = pv_capacity[sub_coal]*homogenous['PV_prod_to_capacity']\n",
    "    ## replace homogenous with heterogenous for heterogenous households"
   ]
  },
  {
   "cell_type": "code",
   "execution_count": 9,
   "id": "2e72dbcc-428e-4c6f-9dee-1687d839fe43",
   "metadata": {},
   "outputs": [],
   "source": [
    "#creates a table with the net consumption of electricity per 15 min for each sub-coallition\n",
    "net_cons = pd.DataFrame()\n",
    "\n",
    "for sub_coal in sub_coallitions:\n",
    "    net_cons[sub_coal] = cons[sub_coal] - prod[sub_coal]\n"
   ]
  },
  {
   "cell_type": "code",
   "execution_count": 10,
   "id": "843db439-086c-4fb5-8031-665833941559",
   "metadata": {},
   "outputs": [],
   "source": [
    "#creates two dictionnaries, one containing the total electricity demand for each sub-coallition \n",
    "#and the other one the total electricity surplus for each sub-coallition\n",
    "#the demand is the sum of all positive elements in the table \"net_cons\"\n",
    "#the surplus is the sum of all negative elements in the table \"net_cons\"\n",
    "\n",
    "total_demand = {}\n",
    "total_surplus = {}\n",
    "\n",
    "for sub_coal in sub_coallitions: \n",
    "    total_demand[sub_coal] = net_cons[sub_coal][net_cons[sub_coal] > 0].sum()\n",
    "    total_surplus[sub_coal] = net_cons[sub_coal][net_cons[sub_coal] <= 0].sum()"
   ]
  },
  {
   "cell_type": "code",
   "execution_count": 11,
   "id": "8553115d-41ca-41e4-8e23-cfaaa74ac193",
   "metadata": {},
   "outputs": [],
   "source": [
    "#generates a dictionary with the number of green certificates for each sub-coallition\n",
    "\n",
    "green_certificates = {}\n",
    "\n",
    "for sub_coal in sub_coallitions: \n",
    "    if pv_capacity[sub_coal] >= 10000:\n",
    "        green_certificates[sub_coal] = int(pv_capacity[sub_coal]*cv_megawh/1000)\n",
    "    else: \n",
    "        green_certificates[sub_coal] = 0\n",
    "\n"
   ]
  },
  {
   "cell_type": "code",
   "execution_count": 12,
   "id": "a4a6a09a-b66e-45e0-9ea7-6490c61b6d91",
   "metadata": {},
   "outputs": [],
   "source": [
    "#cost for individuals households who are not prosumers \n",
    "\n",
    "cost_HH = {}\n",
    "\n",
    "for x in households:\n",
    "    cost_HH[x] = total_cons[x]*(distribution_fees_lv + transport_fees_lv) + total_cons[x]*elec_price['cons']/1000\n"
   ]
  },
  {
   "cell_type": "code",
   "execution_count": 13,
   "id": "3e0cb150-0aed-4762-8c75-df66a24d1ca2",
   "metadata": {},
   "outputs": [],
   "source": [
    "#cost for each sub-coallition forming an energy community \n",
    "\n",
    "cost = {}\n",
    "\n",
    "for sub_coal in sub_coallitions:\n",
    "    cost[sub_coal] = total_demand[sub_coal]*(distribution_fees_lv + transport_fees_lv + elec_price['cons']/1000) + total_surplus[sub_coal] * elec_price['inj']/1000 + management_cost_megawh_medium * pv_capacity[sub_coal]/1000 + dso_cost_medium + injection_fees_lv + pv_price_kwh/30 * pv_capacity[sub_coal] - green_certificates[sub_coal]*1/3* cv_price \n",
    "    #cost[sub_coal] = total_demand[sub_coal]*(distribution_fees_lv + transport_fees_lv + elec_price['cons']/1000) + total_surplus[sub_coal] * elec_price['inj']/1000 + management_cost_megawh_low * pv_capacity[sub_coal]/1000 + dso_cost_low + injection_fees_lv + pv_price_kwh/30 * pv_capacity[sub_coal] - green_certificates[sub_coal] * cv_price \n",
    "      \n",
    "    \n",
    "    "
   ]
  },
  {
   "cell_type": "code",
   "execution_count": 14,
   "id": "04348cb2-7ff2-4895-a18c-7fc55d700927",
   "metadata": {},
   "outputs": [],
   "source": [
    "#replace the cost for households with cost_HH in cost because they do not have the same cost and benefits as the community\n",
    "for x in households: \n",
    "    cost[x] = cost_HH[x]"
   ]
  },
  {
   "cell_type": "code",
   "execution_count": 15,
   "id": "42818800-8829-4f7f-84a9-6cc69cdf2cbe",
   "metadata": {},
   "outputs": [],
   "source": [
    "#defines the total cost for all households when they are not prosumers and pay their bill individually\n",
    "\n",
    "total_cost_HH = sum(cost_HH.values())\n",
    "    "
   ]
  },
  {
   "cell_type": "code",
   "execution_count": 16,
   "id": "6f9db765-9995-4ad4-bb74-4fc0901af4b8",
   "metadata": {},
   "outputs": [],
   "source": [
    "#the value generated by the community is te difference between the sum of the cost of individual households when they are not part of a community \n",
    "#and the cost of the community when all households join.\n",
    "\n",
    "value_REC = total_cost_HH - cost['ABCDEF']"
   ]
  },
  {
   "cell_type": "code",
   "execution_count": 17,
   "id": "3c74bdc8-f267-4e69-a36a-9e452baaa39c",
   "metadata": {},
   "outputs": [],
   "source": [
    "#individual value - prosumer - capacity based: \n",
    "\n",
    "cost_prosumer_capacity = {}\n",
    "\n",
    "for x in households: \n",
    "    cost_prosumer_capacity[x] = prosumer_tariff*pv_capacity[x]/910 +  net_cons[x].sum()*elec_price['cons']/1000 + pv_capacity[x]*pv_price_kwh/30 + injection_fees_lv\n",
    "    \n",
    "value_prosumer_capacity = {}\n",
    "\n",
    "for x in households:\n",
    "    value_prosumer_capacity[x] = cost[x] - cost_prosumer_capacity[x]\n",
    "    \n",
    "    "
   ]
  },
  {
   "cell_type": "code",
   "execution_count": 18,
   "id": "6caec667-4665-416c-b0d5-c7b179735976",
   "metadata": {},
   "outputs": [],
   "source": [
    "#cost for prosumer with proportional tariffs\n",
    "\n",
    "cost_prosumer_proportional = {}\n",
    "\n",
    "for x in households:\n",
    "    cost_prosumer_proportional[x] = total_demand[x]*(distribution_fees_lv + transport_fees_lv + elec_price['cons']/1000) + total_surplus[x] * elec_price['inj']/1000 + injection_fees_lv + pv_price_kwh/30 * pv_capacity[x] \n",
    "    \n",
    "value_prosumer_proportional = {}\n",
    "\n",
    "for x in households:\n",
    "    value_prosumer_proportional[x] = cost[x] - cost_prosumer_proportional[x]\n",
    "    "
   ]
  },
  {
   "cell_type": "code",
   "execution_count": 19,
   "id": "f389d427-2a48-453a-97f9-ee8611335208",
   "metadata": {},
   "outputs": [],
   "source": [
    "#replace the value for households with cost_homogenous_HH in cost_homogenous because they do not have the same cost and benefits as the community\n",
    "for x in households: \n",
    "    cost[x] = cost_prosumer_proportional[x]"
   ]
  },
  {
   "cell_type": "code",
   "execution_count": 20,
   "id": "2ac54f45-f72e-4c7c-9751-5b1fece12773",
   "metadata": {},
   "outputs": [],
   "source": [
    "#sharing key 1 - Per capita\n",
    "sharing_per_capita = {}\n",
    "\n",
    "for x in households: \n",
    "    sharing_per_capita[x] = value_REC/6"
   ]
  },
  {
   "cell_type": "code",
   "execution_count": 21,
   "id": "e86179e7-cef5-4b98-9800-efbfbe59e118",
   "metadata": {},
   "outputs": [],
   "source": [
    "#sharing key 2 - Per volume\n",
    "sharing_per_volume = {}\n",
    "\n",
    "for x in households: \n",
    "    sharing_per_volume[x] = value_REC*total_cons[x]/total_cons['ABCDEF'] "
   ]
  },
  {
   "cell_type": "code",
   "execution_count": 22,
   "id": "7ad81622-d96c-4aad-a939-02d8ce6a0cf1",
   "metadata": {},
   "outputs": [],
   "source": [
    "peak_demand_HH = dict(cons[households].iloc[cons['ABCDEF'].idxmax()])"
   ]
  },
  {
   "cell_type": "code",
   "execution_count": 23,
   "id": "6ec18685-355b-497b-9335-2efbe27340ae",
   "metadata": {},
   "outputs": [],
   "source": [
    "#sharing key 3 - Pro rata of peak demand\n",
    "sharing_peak_demand = {}\n",
    "\n",
    "#gets the demand associated with the peak demand in the community \n",
    "peak_demand_HH = dict(cons[households].iloc[cons['ABCDEF'].idxmax()])\n",
    "\n",
    "for x in households: \n",
    "    sharing_peak_demand[x] = value_REC*peak_demand_HH[x]/max(cons['ABCDEF'])"
   ]
  },
  {
   "cell_type": "code",
   "execution_count": 24,
   "id": "f071c97a-deb7-4002-a102-c45dc69c054d",
   "metadata": {},
   "outputs": [],
   "source": [
    "#calculates the values for all the sub-coallitions \n",
    "\n",
    "values_coal = {}\n",
    "\n",
    "for key, value in cost.items():\n",
    "    sum_HH = sum([cost_HH[letter] for letter in key])\n",
    "    values_coal[key] = sum_HH - value"
   ]
  },
  {
   "cell_type": "code",
   "execution_count": 25,
   "id": "52bcf17f-4644-4311-9925-1ba737dcf114",
   "metadata": {},
   "outputs": [],
   "source": [
    "#calculates the values for all the permutations of all the sub-coallitions \n",
    "\n",
    "values_coal_permuts = {}\n",
    "\n",
    "for key, value in values_coal.items():\n",
    "    combination = key\n",
    "    permut = list(itertools.permutations(list(combination)))\n",
    "    for perm in permut:\n",
    "        new_key = ''.join(perm)\n",
    "        values_coal_permuts[new_key] = value"
   ]
  },
  {
   "cell_type": "code",
   "execution_count": 26,
   "id": "cead18c7-10ba-4112-ba05-72164a720fe9",
   "metadata": {},
   "outputs": [],
   "source": [
    "#for all elements of 'permutations', joins them with no space in between. \n",
    "# [('A','B','C','D','E','F'),...] becomes [('ABCDEF'),...]\n",
    "\n",
    "permutations_stringed = [''.join(perm) for perm in permutations]"
   ]
  },
  {
   "cell_type": "code",
   "execution_count": 27,
   "id": "d0b5912e-611e-42c9-8098-16a54b76e7b9",
   "metadata": {},
   "outputs": [],
   "source": [
    "#calculate the marginal contribution of each household to the community, given all possible permutations.\n",
    "shapley = {i:{} for i in 'ABCDEF'}\n",
    "\n",
    "for permut in permutations_stringed:\n",
    "    for i, hh in enumerate(permut):  \n",
    "        if i == 0:\n",
    "            value = values_coal_permuts[hh]\n",
    "        else:\n",
    "            value = values_coal_permuts[permut[:i+1]] - values_coal_permuts[permut[:i]]\n",
    "        \n",
    "        shapley[hh][permut] = value\n"
   ]
  },
  {
   "cell_type": "code",
   "execution_count": 28,
   "id": "f05ca58c-9808-4eea-83ff-22f842306267",
   "metadata": {},
   "outputs": [],
   "source": [
    "#table containing all the marginal contributions of each individuals to each permutations of the overall community.\n",
    "\n",
    "shapley_df = pd.DataFrame(shapley)"
   ]
  },
  {
   "cell_type": "code",
   "execution_count": 29,
   "id": "fcca92ad-d1cc-4f86-9668-e291a300f882",
   "metadata": {},
   "outputs": [],
   "source": [
    "# sharing key 4 - Shapley value\n",
    "# getting the average of all marginal contributions for each household\n",
    "\n",
    "sharing_shapley = {column: shapley_df[column].mean() for column in shapley_df}"
   ]
  },
  {
   "cell_type": "code",
   "execution_count": 30,
   "id": "360e3e3c-bb4a-41a6-8179-a4381938d3ce",
   "metadata": {},
   "outputs": [
    {
     "name": "stdout",
     "output_type": "stream",
     "text": [
      "     pcost       dcost       gap    pres   dres\n",
      " 0:  6.0868e+04 -6.1199e+05  7e+05  1e-02  2e+04\n",
      " 1:  6.0868e+04  5.1360e+04  1e+04  1e-04  3e+02\n",
      " 2:  6.0868e+04  6.0773e+04  1e+02  1e-06  3e+00\n",
      " 3:  6.0868e+04  6.0867e+04  1e+00  1e-08  3e-02\n",
      " 4:  6.0868e+04  6.0868e+04  1e-02  1e-10  3e-04\n",
      "Terminated (singular KKT matrix).\n"
     ]
    }
   ],
   "source": [
    "#help(qp): qp is part of the cvxopt package wich allows to run a quadratic optimazation program.\n",
    "#The program looks for a vector of variables x that minimizes the following objective function:\n",
    "# (1/2)x'Px + q'x\n",
    "#s.t.\n",
    "# Gx <= h \n",
    "# Ax = b \n",
    "\n",
    "\n",
    "\n",
    "M = np.array([[1/math.sqrt(6),1/math.sqrt(6),1/math.sqrt(6),1/math.sqrt(6),1/math.sqrt(6),1/math.sqrt(6)],[0,0,0,0,0,0],[0,0,0,0,0,0],[0,0,0,0,0,0],[0,0,0,0,0,0],[0,0,0,0,0,0]])\n",
    "P = matrix(np.dot(M.T,M))\n",
    "q = matrix(np.array([0,0,0,0,0,0]).T.astype(float))\n",
    "\n",
    "A = matrix(np.ones((1, 6)))\n",
    "b = matrix(values_coal['ABCDEF'])\n",
    "\n",
    "#create a matrix G which has value '-1' attributed to a household when they are part of a (sub-)coallition and '0' when they are not\n",
    "dicto = {'A': 0, 'B': 1, 'C': 2, 'D': 3, 'E': 4, 'F': 5}\n",
    "G = []\n",
    "for sub_coallition in sub_coallitions:\n",
    "    row = []\n",
    "    pos_value = []\n",
    "    for letter in sub_coallition:\n",
    "        pos_value.append(dicto[letter])\n",
    "    for key, value in dicto.items():\n",
    "        if value in pos_value:\n",
    "            row.append(-1.0)\n",
    "        else:\n",
    "            row.append(0.0)\n",
    "    G.append(row)\n",
    "G = matrix(np.array(G))\n",
    "G = matrix(G)\n",
    "\n",
    "#create a matrix h with the values of all sub-coallitions, multiplied by (-1) to respect the structure for the conditions of the program\n",
    "h = matrix(np.array(list(values_coal.values())) *(-1))\n",
    "\n",
    "#Runs the program\n",
    "\n",
    "sol = qp(P,q,G,h,A,b)['x']"
   ]
  },
  {
   "cell_type": "code",
   "execution_count": 31,
   "id": "47534b02-0709-4678-9d34-5954180a2c8c",
   "metadata": {},
   "outputs": [],
   "source": [
    "#sharing key 5 - MinVar \n",
    "\n",
    "list(sol)\n",
    "sharing_minvar = {k: v for (k, v) in zip(dicto.keys(), list(sol))}"
   ]
  },
  {
   "cell_type": "code",
   "execution_count": 34,
   "id": "1b6262a9-36dc-4791-adb5-e8504c9701f9",
   "metadata": {},
   "outputs": [
    {
     "data": {
      "text/html": [
       "<div>\n",
       "<style scoped>\n",
       "    .dataframe tbody tr th:only-of-type {\n",
       "        vertical-align: middle;\n",
       "    }\n",
       "\n",
       "    .dataframe tbody tr th {\n",
       "        vertical-align: top;\n",
       "    }\n",
       "\n",
       "    .dataframe thead th {\n",
       "        text-align: right;\n",
       "    }\n",
       "</style>\n",
       "<table border=\"1\" class=\"dataframe\">\n",
       "  <thead>\n",
       "    <tr style=\"text-align: right;\">\n",
       "      <th></th>\n",
       "      <th>A</th>\n",
       "      <th>B</th>\n",
       "      <th>C</th>\n",
       "      <th>D</th>\n",
       "      <th>E</th>\n",
       "      <th>F</th>\n",
       "    </tr>\n",
       "  </thead>\n",
       "  <tbody>\n",
       "    <tr>\n",
       "      <th>individual value</th>\n",
       "      <td>128.687509</td>\n",
       "      <td>144.999696</td>\n",
       "      <td>119.120241</td>\n",
       "      <td>112.050042</td>\n",
       "      <td>81.416160</td>\n",
       "      <td>71.257570</td>\n",
       "    </tr>\n",
       "    <tr>\n",
       "      <th>per capita</th>\n",
       "      <td>142.440987</td>\n",
       "      <td>142.440987</td>\n",
       "      <td>142.440987</td>\n",
       "      <td>142.440987</td>\n",
       "      <td>142.440987</td>\n",
       "      <td>142.440987</td>\n",
       "    </tr>\n",
       "    <tr>\n",
       "      <th>per volume</th>\n",
       "      <td>213.604915</td>\n",
       "      <td>162.356267</td>\n",
       "      <td>162.183732</td>\n",
       "      <td>124.373386</td>\n",
       "      <td>94.681039</td>\n",
       "      <td>97.446583</td>\n",
       "    </tr>\n",
       "    <tr>\n",
       "      <th>pro rata of peak demand</th>\n",
       "      <td>206.436533</td>\n",
       "      <td>158.579836</td>\n",
       "      <td>215.311693</td>\n",
       "      <td>141.377648</td>\n",
       "      <td>122.842087</td>\n",
       "      <td>10.098126</td>\n",
       "    </tr>\n",
       "    <tr>\n",
       "      <th>Shapley</th>\n",
       "      <td>212.917051</td>\n",
       "      <td>183.532967</td>\n",
       "      <td>157.772259</td>\n",
       "      <td>133.174224</td>\n",
       "      <td>94.775507</td>\n",
       "      <td>72.473915</td>\n",
       "    </tr>\n",
       "    <tr>\n",
       "      <th>MinVar</th>\n",
       "      <td>217.729600</td>\n",
       "      <td>182.074331</td>\n",
       "      <td>156.278383</td>\n",
       "      <td>133.133307</td>\n",
       "      <td>93.390427</td>\n",
       "      <td>72.039875</td>\n",
       "    </tr>\n",
       "  </tbody>\n",
       "</table>\n",
       "</div>"
      ],
      "text/plain": [
       "                                  A           B           C           D  \\\n",
       "individual value         128.687509  144.999696  119.120241  112.050042   \n",
       "per capita               142.440987  142.440987  142.440987  142.440987   \n",
       "per volume               213.604915  162.356267  162.183732  124.373386   \n",
       "pro rata of peak demand  206.436533  158.579836  215.311693  141.377648   \n",
       "Shapley                  212.917051  183.532967  157.772259  133.174224   \n",
       "MinVar                   217.729600  182.074331  156.278383  133.133307   \n",
       "\n",
       "                                  E           F  \n",
       "individual value          81.416160   71.257570  \n",
       "per capita               142.440987  142.440987  \n",
       "per volume                94.681039   97.446583  \n",
       "pro rata of peak demand  122.842087   10.098126  \n",
       "Shapley                   94.775507   72.473915  \n",
       "MinVar                    93.390427   72.039875  "
      ]
     },
     "execution_count": 34,
     "metadata": {},
     "output_type": "execute_result"
    }
   ],
   "source": [
    "#Table with all the allocation keys: \n",
    "\n",
    "pd.DataFrame({#'individual value 2' : value_prosumer_capacity,\n",
    "              'individual value' : value_prosumer_proportional,\n",
    "              'per capita': sharing_per_capita,\n",
    "              'per volume': sharing_per_volume,\n",
    "              'pro rata of peak demand': sharing_peak_demand,\n",
    "              'Shapley': sharing_shapley,\n",
    "              'MinVar': sharing_minvar}).T"
   ]
  },
  {
   "cell_type": "code",
   "execution_count": null,
   "id": "8c224b5c-bfac-4437-9c19-fdc75dd1f677",
   "metadata": {},
   "outputs": [],
   "source": []
  }
 ],
 "metadata": {
  "kernelspec": {
   "display_name": "Python 3 (ipykernel)",
   "language": "python",
   "name": "python3"
  },
  "language_info": {
   "codemirror_mode": {
    "name": "ipython",
    "version": 3
   },
   "file_extension": ".py",
   "mimetype": "text/x-python",
   "name": "python",
   "nbconvert_exporter": "python",
   "pygments_lexer": "ipython3",
   "version": "3.9.7"
  }
 },
 "nbformat": 4,
 "nbformat_minor": 5
}
